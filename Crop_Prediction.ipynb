{
  "nbformat": 4,
  "nbformat_minor": 0,
  "metadata": {
    "colab": {
      "name": "Crop Prediction.ipynb",
      "provenance": [],
      "authorship_tag": "ABX9TyN3iMs5v4d3+9ADYiZfx0j4",
      "include_colab_link": true
    },
    "kernelspec": {
      "name": "python3",
      "display_name": "Python 3"
    }
  },
  "cells": [
    {
      "cell_type": "markdown",
      "metadata": {
        "id": "view-in-github",
        "colab_type": "text"
      },
      "source": [
        "<a href=\"https://colab.research.google.com/github/MOHIT335448/Crop-Prediction-1/blob/main/Crop_Prediction.ipynb\" target=\"_parent\"><img src=\"https://colab.research.google.com/assets/colab-badge.svg\" alt=\"Open In Colab\"/></a>"
      ]
    },
    {
      "cell_type": "code",
      "metadata": {
        "id": "vt9wjSoAu9Nc"
      },
      "source": [
        "import matplotlib.pyplot as plt\r\n",
        "import seaborn as sns\r\n",
        "\r\n",
        "from wordcloud import WordCloud, STOPWORDS\r\n",
        "from PIL import Image\r\n",
        "\r\n",
        "import plotly.graph_objs as go\r\n",
        "import pandas as pd\r\n",
        "import numpy as np"
      ],
      "execution_count": null,
      "outputs": []
    },
    {
      "cell_type": "code",
      "metadata": {
        "id": "fTvt7N9uvzZd"
      },
      "source": [
        "df = pd.read_csv('/content/Crop_recommendation.csv')"
      ],
      "execution_count": null,
      "outputs": []
    },
    {
      "cell_type": "code",
      "metadata": {
        "colab": {
          "base_uri": "https://localhost:8080/"
        },
        "id": "oD3kkUeOvNcP",
        "outputId": "d756bb61-0b77-439d-c015-7176c413fb8d"
      },
      "source": [
        "from sklearn.model_selection import KFold, cross_val_score\r\n",
        "from sklearn.linear_model import LogisticRegression\r\n",
        "from sklearn.tree import DecisionTreeClassifier\r\n",
        "from sklearn.ensemble import RandomForestClassifier\r\n",
        "from sklearn.model_selection import train_test_split\r\n",
        "from sklearn import metrics\r\n",
        "\r\n",
        "target = ['label']\r\n",
        "features = ['N', 'P', 'K', 'temperature', 'humidity', 'ph', 'rainfall']\r\n",
        "\r\n",
        "X = df[features]\r\n",
        "y = df[target]\r\n",
        "\r\n",
        "\r\n",
        "X_train, X_test, y_train, y_test = train_test_split(X, y, test_size=0.33, random_state=42, shuffle=True)\r\n",
        "\r\n",
        "models = []\r\n",
        "models.append(('LogisticRegression', LogisticRegression(random_state=0)))\r\n",
        "models.append(('DecisionTreeClassifier', DecisionTreeClassifier(random_state=0)))\r\n",
        "models.append(('RandomForestClassifier', RandomForestClassifier(random_state=0)))\r\n",
        "\r\n",
        "model_name = []\r\n",
        "accuracy = []\r\n",
        "\r\n",
        "for name, model in models: \r\n",
        "    model.fit(X_train,y_train)\r\n",
        "    y_pred=model.predict(X_test)\r\n",
        "    model_name.append(name)\r\n",
        "    accuracy.append(metrics.accuracy_score(y_test,y_pred))\r\n",
        "    print(name, metrics.accuracy_score(y_test,y_pred))\r\n"
      ],
      "execution_count": null,
      "outputs": [
        {
          "output_type": "stream",
          "text": [
            "/usr/local/lib/python3.7/dist-packages/sklearn/utils/validation.py:760: DataConversionWarning:\n",
            "\n",
            "A column-vector y was passed when a 1d array was expected. Please change the shape of y to (n_samples, ), for example using ravel().\n",
            "\n",
            "/usr/local/lib/python3.7/dist-packages/sklearn/linear_model/_logistic.py:940: ConvergenceWarning:\n",
            "\n",
            "lbfgs failed to converge (status=1):\n",
            "STOP: TOTAL NO. of ITERATIONS REACHED LIMIT.\n",
            "\n",
            "Increase the number of iterations (max_iter) or scale the data as shown in:\n",
            "    https://scikit-learn.org/stable/modules/preprocessing.html\n",
            "Please also refer to the documentation for alternative solver options:\n",
            "    https://scikit-learn.org/stable/modules/linear_model.html#logistic-regression\n",
            "\n",
            "/usr/local/lib/python3.7/dist-packages/ipykernel_launcher.py:26: DataConversionWarning:\n",
            "\n",
            "A column-vector y was passed when a 1d array was expected. Please change the shape of y to (n_samples,), for example using ravel().\n",
            "\n"
          ],
          "name": "stderr"
        },
        {
          "output_type": "stream",
          "text": [
            "LogisticRegression 0.9504132231404959\n",
            "DecisionTreeClassifier 0.9724517906336089\n",
            "RandomForestClassifier 0.9931129476584022\n"
          ],
          "name": "stdout"
        }
      ]
    },
    {
      "cell_type": "code",
      "metadata": {
        "colab": {
          "base_uri": "https://localhost:8080/",
          "height": 493
        },
        "id": "EsqIydGjw0Hb",
        "outputId": "a5834c81-8adc-4c76-fda3-ccd0457f9976"
      },
      "source": [
        "\r\n",
        "plt.figure(figsize=(15,9))\r\n",
        "plt.title('Accuracy Comparison')\r\n",
        "plt.xlabel('Accuracy')\r\n",
        "plt.ylabel('Model')\r\n",
        "sns.barplot(x = accuracy, y = model_name)\r\n",
        "plt.show()"
      ],
      "execution_count": null,
      "outputs": [
        {
          "output_type": "display_data",
          "data": {
            "image/png": "[encoded data removed]",
            "text/plain": [
              "<Figure size 1080x648 with 1 Axes>"
            ]
          },
          "metadata": {
            "tags": [],
            "needs_background": "light"
          }
        }
      ]
    }
  ]
}